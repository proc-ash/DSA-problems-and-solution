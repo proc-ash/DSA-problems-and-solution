{
 "cells": [
  {
   "cell_type": "markdown",
   "id": "federal-intranet",
   "metadata": {},
   "source": [
    "### Find Kth smallest element in an array\n",
    "#### Python shortcut"
   ]
  },
  {
   "cell_type": "code",
   "execution_count": 1,
   "id": "collected-somerset",
   "metadata": {},
   "outputs": [],
   "source": [
    "a=[64,2,98,465,416,92,84]\n",
    "a.sort()"
   ]
  },
  {
   "cell_type": "code",
   "execution_count": 2,
   "id": "useful-kentucky",
   "metadata": {},
   "outputs": [
    {
     "name": "stdout",
     "output_type": "stream",
     "text": [
      "92\n"
     ]
    }
   ],
   "source": [
    "k=3\n",
    "print(a[k])"
   ]
  },
  {
   "cell_type": "markdown",
   "id": "emotional-merchandise",
   "metadata": {},
   "source": [
    "### Solution"
   ]
  },
  {
   "cell_type": "code",
   "execution_count": 3,
   "id": "earlier-ultimate",
   "metadata": {},
   "outputs": [
    {
     "name": "stdout",
     "output_type": "stream",
     "text": [
      "Enter the lengthof array: 5\n",
      "Enter the position: 3\n",
      "2\n",
      "65\n",
      "14\n",
      "98\n",
      "56\n",
      "[2, 65, 14, 98, 56]\n"
     ]
    }
   ],
   "source": [
    "a=[]\n",
    "n=int(input(\"Enter the lengthof array: \"))\n",
    "k=int(input(\"Enter the position: \"))\n",
    "for i in range(0,n):\n",
    "    x=int(input())\n",
    "    a.append(x)\n"
   ]
  },
  {
   "cell_type": "code",
   "execution_count": 8,
   "id": "opposed-survivor",
   "metadata": {},
   "outputs": [
    {
     "name": "stdout",
     "output_type": "stream",
     "text": [
      "65\n"
     ]
    }
   ],
   "source": [
    "a.sort()\n",
    "for i in range(0,n):\n",
    "    if i==k:\n",
    "        print(a[i])\n"
   ]
  },
  {
   "cell_type": "code",
   "execution_count": 7,
   "id": "northern-humanitarian",
   "metadata": {},
   "outputs": [
    {
     "data": {
      "text/plain": [
       "3"
      ]
     },
     "execution_count": 7,
     "metadata": {},
     "output_type": "execute_result"
    }
   ],
   "source": []
  },
  {
   "cell_type": "code",
   "execution_count": null,
   "id": "brown-coalition",
   "metadata": {},
   "outputs": [],
   "source": []
  }
 ],
 "metadata": {
  "kernelspec": {
   "display_name": "DL",
   "language": "python",
   "name": "dl"
  },
  "language_info": {
   "codemirror_mode": {
    "name": "ipython",
    "version": 3
   },
   "file_extension": ".py",
   "mimetype": "text/x-python",
   "name": "python",
   "nbconvert_exporter": "python",
   "pygments_lexer": "ipython3",
   "version": "3.8.5"
  }
 },
 "nbformat": 4,
 "nbformat_minor": 5
}
