{
 "cells": [
  {
   "cell_type": "markdown",
   "id": "genetic-agreement",
   "metadata": {},
   "source": [
    "#### Find the Union and Intersection of the two unsorted arrays.\n"
   ]
  },
  {
   "cell_type": "code",
   "execution_count": 5,
   "id": "metropolitan-apparatus",
   "metadata": {},
   "outputs": [],
   "source": [
    "##Using numpy\n",
    "import numpy as np "
   ]
  },
  {
   "cell_type": "code",
   "execution_count": 6,
   "id": "working-million",
   "metadata": {},
   "outputs": [],
   "source": [
    "arr1 = np.array([7, 1, 5, 2, 3, 6]) \n",
    "arr2 = np.array([3, 8, 6, 20, 7])     "
   ]
  },
  {
   "cell_type": "code",
   "execution_count": 7,
   "id": "dying-concrete",
   "metadata": {},
   "outputs": [
    {
     "data": {
      "text/plain": [
       "array([ 1,  2,  3,  5,  6,  7,  8, 20])"
      ]
     },
     "execution_count": 7,
     "metadata": {},
     "output_type": "execute_result"
    }
   ],
   "source": [
    "np.union1d(arr1,arr2)"
   ]
  },
  {
   "cell_type": "code",
   "execution_count": 8,
   "id": "knowing-actress",
   "metadata": {},
   "outputs": [
    {
     "data": {
      "text/plain": [
       "array([3, 6, 7])"
      ]
     },
     "execution_count": 8,
     "metadata": {},
     "output_type": "execute_result"
    }
   ],
   "source": [
    "np.intersect1d(arr1,arr2)"
   ]
  },
  {
   "cell_type": "markdown",
   "id": "collective-investing",
   "metadata": {},
   "source": [
    "### Code"
   ]
  },
  {
   "cell_type": "code",
   "execution_count": 30,
   "id": "endangered-congo",
   "metadata": {},
   "outputs": [],
   "source": [
    "arr1 = [7, 1, 5, 2, 3, 6] \n",
    "arr2 = [3, 8, 6, 20, 7]  "
   ]
  },
  {
   "cell_type": "code",
   "execution_count": 31,
   "id": "stuck-carry",
   "metadata": {
    "scrolled": true
   },
   "outputs": [],
   "source": [
    "n=len(arr1)\n",
    "m=len(arr2)\n",
    "intr=[]"
   ]
  },
  {
   "cell_type": "code",
   "execution_count": 32,
   "id": "verified-adult",
   "metadata": {},
   "outputs": [],
   "source": [
    "for i in range(0,max(n,m)):\n",
    "    for j in range(0,min(n,m)):\n",
    "        if arr1[i]==arr2[j]:\n",
    "            intr.append(arr1[i])\n"
   ]
  },
  {
   "cell_type": "code",
   "execution_count": 33,
   "id": "documented-alpha",
   "metadata": {},
   "outputs": [
    {
     "data": {
      "text/plain": [
       "[7, 3, 6]"
      ]
     },
     "execution_count": 33,
     "metadata": {},
     "output_type": "execute_result"
    }
   ],
   "source": [
    "intr"
   ]
  },
  {
   "cell_type": "markdown",
   "id": "nominated-provincial",
   "metadata": {},
   "source": [
    "#### Another solution\n",
    "https://www.geeksforgeeks.org/find-union-and-intersection-of-two-unsorted-arrays/"
   ]
  },
  {
   "cell_type": "code",
   "execution_count": null,
   "id": "assumed-welcome",
   "metadata": {},
   "outputs": [],
   "source": []
  }
 ],
 "metadata": {
  "kernelspec": {
   "display_name": "DL",
   "language": "python",
   "name": "dl"
  },
  "language_info": {
   "codemirror_mode": {
    "name": "ipython",
    "version": 3
   },
   "file_extension": ".py",
   "mimetype": "text/x-python",
   "name": "python",
   "nbconvert_exporter": "python",
   "pygments_lexer": "ipython3",
   "version": "3.8.5"
  }
 },
 "nbformat": 4,
 "nbformat_minor": 5
}
