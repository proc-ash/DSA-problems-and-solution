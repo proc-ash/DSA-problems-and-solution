{
 "cells": [
  {
   "cell_type": "markdown",
   "id": "secure-macedonia",
   "metadata": {},
   "source": [
    "#### Given an array which consists of only 0, 1 and 2. Sort the array without using any sorting algo"
   ]
  },
  {
   "cell_type": "markdown",
   "id": "brilliant-portuguese",
   "metadata": {},
   "source": [
    "### Python shortcut"
   ]
  },
  {
   "cell_type": "code",
   "execution_count": 6,
   "id": "fifty-prototype",
   "metadata": {},
   "outputs": [],
   "source": [
    "a=[0, 1, 1, 0, 1, 2, 1, 2, 0, 0, 0, 1]"
   ]
  },
  {
   "cell_type": "code",
   "execution_count": 7,
   "id": "funded-scene",
   "metadata": {},
   "outputs": [],
   "source": [
    "a.sort()"
   ]
  },
  {
   "cell_type": "code",
   "execution_count": 8,
   "id": "little-military",
   "metadata": {},
   "outputs": [
    {
     "data": {
      "text/plain": [
       "[0, 0, 0, 0, 0, 1, 1, 1, 1, 1, 2, 2]"
      ]
     },
     "execution_count": 8,
     "metadata": {},
     "output_type": "execute_result"
    }
   ],
   "source": [
    "a"
   ]
  },
  {
   "cell_type": "markdown",
   "id": "touched-fitting",
   "metadata": {},
   "source": [
    "### Code"
   ]
  },
  {
   "cell_type": "code",
   "execution_count": 13,
   "id": "qualified-friend",
   "metadata": {},
   "outputs": [],
   "source": [
    "ar=[0, 1, 1, 0, 1, 2, 1, 2, 0, 0, 0, 1]\n",
    "l=0\n",
    "m=0\n",
    "h=len(ar)-1"
   ]
  },
  {
   "cell_type": "code",
   "execution_count": 14,
   "id": "compound-matter",
   "metadata": {},
   "outputs": [],
   "source": [
    "while m <= h:\n",
    "    if ar[m]==0:\n",
    "        ar[m],ar[l]=ar[l],ar[m]\n",
    "        l+=1\n",
    "        m+=1\n",
    "    elif ar[m]==1:\n",
    "        m+=1\n",
    "    else:\n",
    "        ar[m],ar[h]=ar[h],ar[m]\n",
    "        h-=1"
   ]
  },
  {
   "cell_type": "code",
   "execution_count": 15,
   "id": "loving-blade",
   "metadata": {},
   "outputs": [
    {
     "name": "stdout",
     "output_type": "stream",
     "text": [
      "[0, 0, 0, 0, 0, 1, 1, 1, 1, 1, 2, 2]\n"
     ]
    }
   ],
   "source": [
    "print(ar)"
   ]
  },
  {
   "cell_type": "markdown",
   "id": "resistant-stopping",
   "metadata": {},
   "source": [
    "#### Another solution"
   ]
  },
  {
   "cell_type": "code",
   "execution_count": 22,
   "id": "filled-cheese",
   "metadata": {},
   "outputs": [],
   "source": [
    "ar=[0, 1, 1, 0, 1, 2, 1, 2, 0, 0, 0, 1]\n",
    "c0=0\n",
    "c1=0\n",
    "c2=0"
   ]
  },
  {
   "cell_type": "code",
   "execution_count": 23,
   "id": "homeless-marble",
   "metadata": {},
   "outputs": [],
   "source": [
    "# count number of 0 1 and 2\n",
    "for i in range(len(ar)):\n",
    "    if ar[i]==0:\n",
    "        c0+=1\n",
    "    if ar[i]==1:\n",
    "        c1+=1\n",
    "    if ar[i]==2:\n",
    "        c2+=1"
   ]
  },
  {
   "cell_type": "code",
   "execution_count": 24,
   "id": "arctic-rolling",
   "metadata": {},
   "outputs": [],
   "source": [
    "i=0\n",
    "while c0>0:\n",
    "    ar[i]=0\n",
    "    i+=1\n",
    "    c0-=1\n",
    "\n",
    "while c1>0:\n",
    "    ar[i]=1\n",
    "    i+=1\n",
    "    c1-=1\n",
    "\n",
    "while c2>0:\n",
    "    ar[i]=2\n",
    "    i+=1\n",
    "    c2-=1"
   ]
  },
  {
   "cell_type": "code",
   "execution_count": 25,
   "id": "nuclear-fundamental",
   "metadata": {},
   "outputs": [
    {
     "name": "stdout",
     "output_type": "stream",
     "text": [
      "[0, 0, 0, 0, 0, 1, 1, 1, 1, 1, 2, 2]\n"
     ]
    }
   ],
   "source": [
    "print(ar)"
   ]
  },
  {
   "cell_type": "code",
   "execution_count": null,
   "id": "grand-advance",
   "metadata": {},
   "outputs": [],
   "source": []
  }
 ],
 "metadata": {
  "kernelspec": {
   "display_name": "DL",
   "language": "python",
   "name": "dl"
  },
  "language_info": {
   "codemirror_mode": {
    "name": "ipython",
    "version": 3
   },
   "file_extension": ".py",
   "mimetype": "text/x-python",
   "name": "python",
   "nbconvert_exporter": "python",
   "pygments_lexer": "ipython3",
   "version": "3.8.5"
  }
 },
 "nbformat": 4,
 "nbformat_minor": 5
}
