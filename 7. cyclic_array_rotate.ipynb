{
 "cells": [
  {
   "cell_type": "markdown",
   "id": "7c14ec09",
   "metadata": {},
   "source": [
    "## 1st approach"
   ]
  },
  {
   "cell_type": "code",
   "execution_count": 8,
   "id": "935d97e8",
   "metadata": {},
   "outputs": [
    {
     "name": "stdout",
     "output_type": "stream",
     "text": [
      "Enter the length of array: 5\n",
      "Enter the array element: 4\n",
      "Enter the array element: 7\n",
      "Enter the array element: 21\n",
      "Enter the array element: 5\n",
      "Enter the array element: 6\n"
     ]
    }
   ],
   "source": [
    "a=[]\n",
    "n=int(input('Enter the length of array: '))\n",
    "for i in range(0,n):\n",
    "    x=int(input('Enter the array element: '))\n",
    "    a.append(x)"
   ]
  },
  {
   "cell_type": "code",
   "execution_count": 12,
   "id": "76d7ae34",
   "metadata": {},
   "outputs": [],
   "source": [
    "def rotate(a,n):\n",
    "    x=a[n-1]\n",
    "    for i in range(n-1,0,-1):\n",
    "        a[i]=a[i-1]\n",
    "    a[0]=x\n",
    "    return a"
   ]
  },
  {
   "cell_type": "code",
   "execution_count": 13,
   "id": "ff99c992",
   "metadata": {},
   "outputs": [
    {
     "name": "stdout",
     "output_type": "stream",
     "text": [
      "[6, 4, 7, 21, 5]\n"
     ]
    }
   ],
   "source": [
    "print(rotate(a,n))"
   ]
  },
  {
   "cell_type": "markdown",
   "id": "f675063e",
   "metadata": {},
   "source": [
    "## 2nd approach"
   ]
  },
  {
   "cell_type": "code",
   "execution_count": 18,
   "id": "8e643d9f",
   "metadata": {},
   "outputs": [],
   "source": [
    "def rotate1(a,n):\n",
    "    i=0\n",
    "    j=n-1\n",
    "    while i!=j:\n",
    "        a[i],a[j]=a[j],a[i]\n",
    "        i+=1\n",
    "    return a"
   ]
  },
  {
   "cell_type": "code",
   "execution_count": 19,
   "id": "c20f4d08",
   "metadata": {},
   "outputs": [
    {
     "name": "stdout",
     "output_type": "stream",
     "text": [
      "[21, 5, 6, 4, 7]\n"
     ]
    }
   ],
   "source": [
    "print(rotate1(a,n))"
   ]
  },
  {
   "cell_type": "code",
   "execution_count": null,
   "id": "ea5f690f",
   "metadata": {},
   "outputs": [],
   "source": []
  }
 ],
 "metadata": {
  "kernelspec": {
   "display_name": "DL",
   "language": "python",
   "name": "dl"
  },
  "language_info": {
   "codemirror_mode": {
    "name": "ipython",
    "version": 3
   },
   "file_extension": ".py",
   "mimetype": "text/x-python",
   "name": "python",
   "nbconvert_exporter": "python",
   "pygments_lexer": "ipython3",
   "version": "3.8.11"
  }
 },
 "nbformat": 4,
 "nbformat_minor": 5
}
