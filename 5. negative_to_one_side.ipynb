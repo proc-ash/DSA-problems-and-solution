{
 "cells": [
  {
   "attachments": {},
   "cell_type": "markdown",
   "id": "functioning-projector",
   "metadata": {},
   "source": [
    "#### Move all the negative elements to one side of the array "
   ]
  },
  {
   "cell_type": "code",
   "execution_count": 1,
   "id": "dominican-auditor",
   "metadata": {},
   "outputs": [],
   "source": [
    "a=[-12, 11, -13, -5, 6, -7, 5, -3, -6]"
   ]
  },
  {
   "cell_type": "code",
   "execution_count": 2,
   "id": "official-rider",
   "metadata": {},
   "outputs": [
    {
     "data": {
      "text/plain": [
       "[-13, -12, -7, -6, -5, -3, 5, 6, 11]"
      ]
     },
     "execution_count": 2,
     "metadata": {},
     "output_type": "execute_result"
    }
   ],
   "source": [
    "#we can use the python shortcut \n",
    "a.sort()\n",
    "a"
   ]
  },
  {
   "cell_type": "code",
   "execution_count": 3,
   "id": "superb-continuity",
   "metadata": {},
   "outputs": [],
   "source": [
    "#or we can write our own code\n",
    "a=[-12, 11, -13, -5, 6, -7, 5, -3, -6]"
   ]
  },
  {
   "cell_type": "code",
   "execution_count": 5,
   "id": "neural-violation",
   "metadata": {},
   "outputs": [],
   "source": [
    "for i in range(0,len(a)+1):\n",
    "    for j in range(i+1,len(a)):\n",
    "        if a[i]>a[j]:\n",
    "            a[i],a[j]=a[j],a[i]"
   ]
  },
  {
   "cell_type": "code",
   "execution_count": 6,
   "id": "deadly-crowd",
   "metadata": {},
   "outputs": [
    {
     "data": {
      "text/plain": [
       "[-13, -12, -7, -6, -5, -3, 5, 6, 11]"
      ]
     },
     "execution_count": 6,
     "metadata": {},
     "output_type": "execute_result"
    }
   ],
   "source": [
    "a"
   ]
  },
  {
   "cell_type": "markdown",
   "id": "strange-dragon",
   "metadata": {},
   "source": [
    "#### Another solution"
   ]
  },
  {
   "cell_type": "code",
   "execution_count": 8,
   "id": "fuzzy-student",
   "metadata": {},
   "outputs": [],
   "source": [
    "a=[-12, 11, -13, -5, 6, -7, 5, -3, -6]"
   ]
  },
  {
   "cell_type": "code",
   "execution_count": 10,
   "id": "marine-funeral",
   "metadata": {},
   "outputs": [],
   "source": [
    "j=0\n",
    "for i in range(0,len(a)):\n",
    "    if a[i]<0:\n",
    "        a[i],a[j]=a[j],a[i]\n",
    "        j+=1"
   ]
  },
  {
   "cell_type": "code",
   "execution_count": 11,
   "id": "logical-david",
   "metadata": {},
   "outputs": [
    {
     "data": {
      "text/plain": [
       "[-12, -13, -5, -7, -3, -6, 5, 6, 11]"
      ]
     },
     "execution_count": 11,
     "metadata": {},
     "output_type": "execute_result"
    }
   ],
   "source": [
    "a"
   ]
  },
  {
   "cell_type": "markdown",
   "id": "caring-cycle",
   "metadata": {},
   "source": [
    "#### Another solution"
   ]
  },
  {
   "cell_type": "code",
   "execution_count": 19,
   "id": "metropolitan-thomas",
   "metadata": {},
   "outputs": [],
   "source": [
    "left=0\n",
    "right=len(a)-1"
   ]
  },
  {
   "cell_type": "code",
   "execution_count": 20,
   "id": "cellular-delicious",
   "metadata": {},
   "outputs": [],
   "source": [
    "while left<= right:\n",
    "    if a[left]<0 and a[right]<0:\n",
    "        left+=1\n",
    "    elif a[left]>0 and a[right]<0:\n",
    "        a[left],a[right]=a[right],a[left]\n",
    "        left+=1\n",
    "        right-=1\n",
    "    elif a[left]>0 and a[right]>0:\n",
    "        right-=1\n",
    "    else:\n",
    "        left+=1\n",
    "        right-=1"
   ]
  },
  {
   "cell_type": "code",
   "execution_count": 21,
   "id": "alpine-prince",
   "metadata": {},
   "outputs": [
    {
     "data": {
      "text/plain": [
       "[-12, -13, -5, -7, -3, -6, 5, 6, 11]"
      ]
     },
     "execution_count": 21,
     "metadata": {},
     "output_type": "execute_result"
    }
   ],
   "source": [
    "a"
   ]
  },
  {
   "cell_type": "code",
   "execution_count": null,
   "id": "significant-generator",
   "metadata": {},
   "outputs": [],
   "source": []
  }
 ],
 "metadata": {
  "kernelspec": {
   "display_name": "DL",
   "language": "python",
   "name": "dl"
  },
  "language_info": {
   "codemirror_mode": {
    "name": "ipython",
    "version": 3
   },
   "file_extension": ".py",
   "mimetype": "text/x-python",
   "name": "python",
   "nbconvert_exporter": "python",
   "pygments_lexer": "ipython3",
   "version": "3.8.5"
  }
 },
 "nbformat": 4,
 "nbformat_minor": 5
}
